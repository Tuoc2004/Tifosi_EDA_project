{
 "cells": [
  {
   "cell_type": "markdown",
   "metadata": {},
   "source": [
    "# Thư viện sử dụng"
   ]
  },
  {
   "cell_type": "code",
   "execution_count": 1,
   "metadata": {},
   "outputs": [],
   "source": [
    "import pandas as pd\n",
    "import ast  \n",
    "import datetime"
   ]
  },
  {
   "cell_type": "markdown",
   "metadata": {},
   "source": [
    "# Tổng quan về dữ liệu"
   ]
  },
  {
   "cell_type": "code",
   "execution_count": 2,
   "metadata": {},
   "outputs": [],
   "source": [
    "df = pd.read_csv('Data/data_crawl.csv')"
   ]
  },
  {
   "cell_type": "code",
   "execution_count": 3,
   "metadata": {},
   "outputs": [
    {
     "name": "stdout",
     "output_type": "stream",
     "text": [
      "<class 'pandas.core.frame.DataFrame'>\n",
      "RangeIndex: 174 entries, 0 to 173\n",
      "Data columns (total 53 columns):\n",
      " #   Column                         Non-Null Count  Dtype  \n",
      "---  ------                         --------------  -----  \n",
      " 0   post_id                        174 non-null    int64  \n",
      " 1   text                           148 non-null    object \n",
      " 2   post_text                      148 non-null    object \n",
      " 3   shared_text                    0 non-null      float64\n",
      " 4   original_text                  0 non-null      float64\n",
      " 5   time                           174 non-null    object \n",
      " 6   timestamp                      170 non-null    float64\n",
      " 7   image                          164 non-null    object \n",
      " 8   image_lowquality               174 non-null    object \n",
      " 9   images                         174 non-null    object \n",
      " 10  images_description             174 non-null    object \n",
      " 11  images_lowquality              174 non-null    object \n",
      " 12  images_lowquality_description  174 non-null    object \n",
      " 13  video                          1 non-null      object \n",
      " 14  video_duration_seconds         0 non-null      float64\n",
      " 15  video_height                   0 non-null      float64\n",
      " 16  video_id                       1 non-null      float64\n",
      " 17  video_quality                  0 non-null      float64\n",
      " 18  video_size_MB                  0 non-null      float64\n",
      " 19  video_thumbnail                1 non-null      object \n",
      " 20  video_watches                  0 non-null      float64\n",
      " 21  video_width                    0 non-null      float64\n",
      " 22  likes                          44 non-null     float64\n",
      " 23  comments                       174 non-null    int64  \n",
      " 24  shares                         174 non-null    int64  \n",
      " 25  post_url                       174 non-null    object \n",
      " 26  link                           0 non-null      float64\n",
      " 27  links                          174 non-null    object \n",
      " 28  user_id                        174 non-null    int64  \n",
      " 29  username                       174 non-null    object \n",
      " 30  user_url                       174 non-null    object \n",
      " 31  is_live                        174 non-null    bool   \n",
      " 32  factcheck                      0 non-null      float64\n",
      " 33  shared_post_id                 0 non-null      float64\n",
      " 34  shared_time                    0 non-null      float64\n",
      " 35  shared_user_id                 0 non-null      float64\n",
      " 36  shared_username                0 non-null      float64\n",
      " 37  shared_post_url                0 non-null      float64\n",
      " 38  available                      174 non-null    bool   \n",
      " 39  comments_full                  174 non-null    object \n",
      " 40  reactors                       130 non-null    object \n",
      " 41  w3_fb_url                      130 non-null    object \n",
      " 42  reactions                      130 non-null    object \n",
      " 43  reaction_count                 174 non-null    int64  \n",
      " 44  with                           0 non-null      float64\n",
      " 45  page_id                        174 non-null    int64  \n",
      " 46  sharers                        0 non-null      float64\n",
      " 47  image_id                       166 non-null    float64\n",
      " 48  image_ids                      174 non-null    object \n",
      " 49  was_live                       174 non-null    bool   \n",
      " 50  fetched_time                   130 non-null    object \n",
      " 51  video_ids                      3 non-null      object \n",
      " 52  videos                         3 non-null      object \n",
      "dtypes: bool(3), float64(21), int64(6), object(23)\n",
      "memory usage: 68.6+ KB\n"
     ]
    }
   ],
   "source": [
    "df.info()"
   ]
  },
  {
   "cell_type": "code",
   "execution_count": 4,
   "metadata": {},
   "outputs": [
    {
     "data": {
      "text/html": [
       "<div>\n",
       "<style scoped>\n",
       "    .dataframe tbody tr th:only-of-type {\n",
       "        vertical-align: middle;\n",
       "    }\n",
       "\n",
       "    .dataframe tbody tr th {\n",
       "        vertical-align: top;\n",
       "    }\n",
       "\n",
       "    .dataframe thead th {\n",
       "        text-align: right;\n",
       "    }\n",
       "</style>\n",
       "<table border=\"1\" class=\"dataframe\">\n",
       "  <thead>\n",
       "    <tr style=\"text-align: right;\">\n",
       "      <th></th>\n",
       "      <th>post_id</th>\n",
       "      <th>text</th>\n",
       "      <th>post_text</th>\n",
       "      <th>shared_text</th>\n",
       "      <th>original_text</th>\n",
       "      <th>time</th>\n",
       "      <th>timestamp</th>\n",
       "      <th>image</th>\n",
       "      <th>image_lowquality</th>\n",
       "      <th>images</th>\n",
       "      <th>...</th>\n",
       "      <th>reaction_count</th>\n",
       "      <th>with</th>\n",
       "      <th>page_id</th>\n",
       "      <th>sharers</th>\n",
       "      <th>image_id</th>\n",
       "      <th>image_ids</th>\n",
       "      <th>was_live</th>\n",
       "      <th>fetched_time</th>\n",
       "      <th>video_ids</th>\n",
       "      <th>videos</th>\n",
       "    </tr>\n",
       "  </thead>\n",
       "  <tbody>\n",
       "    <tr>\n",
       "      <th>0</th>\n",
       "      <td>332725869390006</td>\n",
       "      <td>Tiếc ghê mọi người ạ, chỉ còn vài giây nữa là ...</td>\n",
       "      <td>Tiếc ghê mọi người ạ, chỉ còn vài giây nữa là ...</td>\n",
       "      <td>NaN</td>\n",
       "      <td>NaN</td>\n",
       "      <td>2023-11-21 20:58:55</td>\n",
       "      <td>1.700575e+09</td>\n",
       "      <td>https://scontent.fhan5-1.fna.fbcdn.net/v/t39.3...</td>\n",
       "      <td>https://scontent.fhan5-1.fna.fbcdn.net/v/t39.3...</td>\n",
       "      <td>['https://scontent.fhan5-1.fna.fbcdn.net/v/t39...</td>\n",
       "      <td>...</td>\n",
       "      <td>3718</td>\n",
       "      <td>NaN</td>\n",
       "      <td>106945670701435</td>\n",
       "      <td>NaN</td>\n",
       "      <td>3.327254e+14</td>\n",
       "      <td>['332725399390053']</td>\n",
       "      <td>False</td>\n",
       "      <td>2023-11-23 21:50:09.727258</td>\n",
       "      <td>NaN</td>\n",
       "      <td>NaN</td>\n",
       "    </tr>\n",
       "    <tr>\n",
       "      <th>1</th>\n",
       "      <td>332239869438606</td>\n",
       "      <td>Đây một người thầy giáo dạy lịch sử. Nhưng khá...</td>\n",
       "      <td>Đây một người thầy giáo dạy lịch sử. Nhưng khá...</td>\n",
       "      <td>NaN</td>\n",
       "      <td>NaN</td>\n",
       "      <td>2023-11-20 21:37:59</td>\n",
       "      <td>1.700491e+09</td>\n",
       "      <td>NaN</td>\n",
       "      <td>https://scontent.fhan5-1.fna.fbcdn.net/v/t39.3...</td>\n",
       "      <td>[]</td>\n",
       "      <td>...</td>\n",
       "      <td>6548</td>\n",
       "      <td>NaN</td>\n",
       "      <td>106945670701435</td>\n",
       "      <td>NaN</td>\n",
       "      <td>3.322370e+14</td>\n",
       "      <td>['332236962772230']</td>\n",
       "      <td>False</td>\n",
       "      <td>2023-11-23 21:50:29.337410</td>\n",
       "      <td>NaN</td>\n",
       "      <td>NaN</td>\n",
       "    </tr>\n",
       "    <tr>\n",
       "      <th>2</th>\n",
       "      <td>331196266209633</td>\n",
       "      <td>Có 1,06 triệu tỷ đồng (1.066.000.000.000.000 đ...</td>\n",
       "      <td>Có 1,06 triệu tỷ đồng (1.066.000.000.000.000 đ...</td>\n",
       "      <td>NaN</td>\n",
       "      <td>NaN</td>\n",
       "      <td>2023-11-18 22:29:15</td>\n",
       "      <td>1.700321e+09</td>\n",
       "      <td>https://scontent.fsgn5-6.fna.fbcdn.net/v/t39.3...</td>\n",
       "      <td>https://scontent.fsgn5-6.fna.fbcdn.net/v/t39.3...</td>\n",
       "      <td>['https://scontent.fsgn5-6.fna.fbcdn.net/v/t39...</td>\n",
       "      <td>...</td>\n",
       "      <td>5725</td>\n",
       "      <td>NaN</td>\n",
       "      <td>106945670701435</td>\n",
       "      <td>NaN</td>\n",
       "      <td>3.311919e+14</td>\n",
       "      <td>['331191866210073']</td>\n",
       "      <td>False</td>\n",
       "      <td>2023-11-23 21:51:27.755576</td>\n",
       "      <td>NaN</td>\n",
       "      <td>NaN</td>\n",
       "    </tr>\n",
       "    <tr>\n",
       "      <th>3</th>\n",
       "      <td>331101946219065</td>\n",
       "      <td>ĐỪNG CÓ MƠ MÀ RA KHỎI VIỆT NAM\\n\\nGia tộc Vạn ...</td>\n",
       "      <td>ĐỪNG CÓ MƠ MÀ RA KHỎI VIỆT NAM\\n\\nGia tộc Vạn ...</td>\n",
       "      <td>NaN</td>\n",
       "      <td>NaN</td>\n",
       "      <td>2023-11-18 19:02:21</td>\n",
       "      <td>1.700309e+09</td>\n",
       "      <td>https://m.facebook.com/photo/view_full_size/?f...</td>\n",
       "      <td>https://scontent-hkt1-2.xx.fbcdn.net/v/t39.308...</td>\n",
       "      <td>['https://m.facebook.com/photo/view_full_size/...</td>\n",
       "      <td>...</td>\n",
       "      <td>2377</td>\n",
       "      <td>NaN</td>\n",
       "      <td>106945670701435</td>\n",
       "      <td>NaN</td>\n",
       "      <td>3.310821e+14</td>\n",
       "      <td>['331082069554386']</td>\n",
       "      <td>False</td>\n",
       "      <td>2023-11-23 21:52:00.233540</td>\n",
       "      <td>NaN</td>\n",
       "      <td>NaN</td>\n",
       "    </tr>\n",
       "    <tr>\n",
       "      <th>4</th>\n",
       "      <td>330402456289014</td>\n",
       "      <td>LẠI THÊM MỘT TRÁI TIM NGỪNG ĐẬP GIỮA THỜI BÌNH...</td>\n",
       "      <td>LẠI THÊM MỘT TRÁI TIM NGỪNG ĐẬP GIỮA THỜI BÌNH...</td>\n",
       "      <td>NaN</td>\n",
       "      <td>NaN</td>\n",
       "      <td>2023-11-17 10:08:50</td>\n",
       "      <td>1.700191e+09</td>\n",
       "      <td>https://scontent.fhan5-1.fna.fbcdn.net/v/t39.3...</td>\n",
       "      <td>https://scontent.fhan5-1.fna.fbcdn.net/v/t39.3...</td>\n",
       "      <td>['https://scontent.fhan5-1.fna.fbcdn.net/v/t39...</td>\n",
       "      <td>...</td>\n",
       "      <td>10534</td>\n",
       "      <td>NaN</td>\n",
       "      <td>106945670701435</td>\n",
       "      <td>NaN</td>\n",
       "      <td>3.304024e+14</td>\n",
       "      <td>['330402406289019']</td>\n",
       "      <td>False</td>\n",
       "      <td>2023-11-23 21:52:36.684374</td>\n",
       "      <td>NaN</td>\n",
       "      <td>NaN</td>\n",
       "    </tr>\n",
       "  </tbody>\n",
       "</table>\n",
       "<p>5 rows × 53 columns</p>\n",
       "</div>"
      ],
      "text/plain": [
       "           post_id                                               text  \\\n",
       "0  332725869390006  Tiếc ghê mọi người ạ, chỉ còn vài giây nữa là ...   \n",
       "1  332239869438606  Đây một người thầy giáo dạy lịch sử. Nhưng khá...   \n",
       "2  331196266209633  Có 1,06 triệu tỷ đồng (1.066.000.000.000.000 đ...   \n",
       "3  331101946219065  ĐỪNG CÓ MƠ MÀ RA KHỎI VIỆT NAM\\n\\nGia tộc Vạn ...   \n",
       "4  330402456289014  LẠI THÊM MỘT TRÁI TIM NGỪNG ĐẬP GIỮA THỜI BÌNH...   \n",
       "\n",
       "                                           post_text  shared_text  \\\n",
       "0  Tiếc ghê mọi người ạ, chỉ còn vài giây nữa là ...          NaN   \n",
       "1  Đây một người thầy giáo dạy lịch sử. Nhưng khá...          NaN   \n",
       "2  Có 1,06 triệu tỷ đồng (1.066.000.000.000.000 đ...          NaN   \n",
       "3  ĐỪNG CÓ MƠ MÀ RA KHỎI VIỆT NAM\\n\\nGia tộc Vạn ...          NaN   \n",
       "4  LẠI THÊM MỘT TRÁI TIM NGỪNG ĐẬP GIỮA THỜI BÌNH...          NaN   \n",
       "\n",
       "   original_text                 time     timestamp  \\\n",
       "0            NaN  2023-11-21 20:58:55  1.700575e+09   \n",
       "1            NaN  2023-11-20 21:37:59  1.700491e+09   \n",
       "2            NaN  2023-11-18 22:29:15  1.700321e+09   \n",
       "3            NaN  2023-11-18 19:02:21  1.700309e+09   \n",
       "4            NaN  2023-11-17 10:08:50  1.700191e+09   \n",
       "\n",
       "                                               image  \\\n",
       "0  https://scontent.fhan5-1.fna.fbcdn.net/v/t39.3...   \n",
       "1                                                NaN   \n",
       "2  https://scontent.fsgn5-6.fna.fbcdn.net/v/t39.3...   \n",
       "3  https://m.facebook.com/photo/view_full_size/?f...   \n",
       "4  https://scontent.fhan5-1.fna.fbcdn.net/v/t39.3...   \n",
       "\n",
       "                                    image_lowquality  \\\n",
       "0  https://scontent.fhan5-1.fna.fbcdn.net/v/t39.3...   \n",
       "1  https://scontent.fhan5-1.fna.fbcdn.net/v/t39.3...   \n",
       "2  https://scontent.fsgn5-6.fna.fbcdn.net/v/t39.3...   \n",
       "3  https://scontent-hkt1-2.xx.fbcdn.net/v/t39.308...   \n",
       "4  https://scontent.fhan5-1.fna.fbcdn.net/v/t39.3...   \n",
       "\n",
       "                                              images  ... reaction_count with  \\\n",
       "0  ['https://scontent.fhan5-1.fna.fbcdn.net/v/t39...  ...           3718  NaN   \n",
       "1                                                 []  ...           6548  NaN   \n",
       "2  ['https://scontent.fsgn5-6.fna.fbcdn.net/v/t39...  ...           5725  NaN   \n",
       "3  ['https://m.facebook.com/photo/view_full_size/...  ...           2377  NaN   \n",
       "4  ['https://scontent.fhan5-1.fna.fbcdn.net/v/t39...  ...          10534  NaN   \n",
       "\n",
       "           page_id sharers      image_id            image_ids  was_live  \\\n",
       "0  106945670701435     NaN  3.327254e+14  ['332725399390053']     False   \n",
       "1  106945670701435     NaN  3.322370e+14  ['332236962772230']     False   \n",
       "2  106945670701435     NaN  3.311919e+14  ['331191866210073']     False   \n",
       "3  106945670701435     NaN  3.310821e+14  ['331082069554386']     False   \n",
       "4  106945670701435     NaN  3.304024e+14  ['330402406289019']     False   \n",
       "\n",
       "                 fetched_time  video_ids videos  \n",
       "0  2023-11-23 21:50:09.727258        NaN    NaN  \n",
       "1  2023-11-23 21:50:29.337410        NaN    NaN  \n",
       "2  2023-11-23 21:51:27.755576        NaN    NaN  \n",
       "3  2023-11-23 21:52:00.233540        NaN    NaN  \n",
       "4  2023-11-23 21:52:36.684374        NaN    NaN  \n",
       "\n",
       "[5 rows x 53 columns]"
      ]
     },
     "execution_count": 4,
     "metadata": {},
     "output_type": "execute_result"
    }
   ],
   "source": [
    "df.head()"
   ]
  },
  {
   "cell_type": "markdown",
   "metadata": {},
   "source": [
    "# Làm sạch dữ liệu"
   ]
  },
  {
   "cell_type": "markdown",
   "metadata": {},
   "source": [
    "## Loại bỏ bài đăng không chứa nội dung:"
   ]
  },
  {
   "cell_type": "code",
   "execution_count": 5,
   "metadata": {},
   "outputs": [],
   "source": [
    "df_cleaned = df.dropna(subset=['post_text'])"
   ]
  },
  {
   "cell_type": "markdown",
   "metadata": {},
   "source": [
    "## Loại bỏ bài đăng không có bình luận:"
   ]
  },
  {
   "cell_type": "code",
   "execution_count": 6,
   "metadata": {},
   "outputs": [],
   "source": [
    "df_cleaned = df_cleaned[df_cleaned['comments'] > 0]"
   ]
  },
  {
   "cell_type": "markdown",
   "metadata": {},
   "source": [
    "## Xử lý quyền truy cập bị hạn chế"
   ]
  },
  {
   "cell_type": "code",
   "execution_count": 7,
   "metadata": {},
   "outputs": [],
   "source": [
    "df_cleaned = df_cleaned[df_cleaned['available']]"
   ]
  },
  {
   "cell_type": "markdown",
   "metadata": {},
   "source": [
    "## Loại bỏ thông tin không cần thiết:"
   ]
  },
  {
   "cell_type": "code",
   "execution_count": 8,
   "metadata": {},
   "outputs": [],
   "source": [
    "# Loại bỏ các cột không có giá trị\n",
    "df_cleaned = df_cleaned.dropna(axis=1, how='all')"
   ]
  },
  {
   "cell_type": "code",
   "execution_count": 9,
   "metadata": {},
   "outputs": [],
   "source": [
    "# List các cột không cần thiết\n",
    "columns_to_drop = ['text','image', 'image_lowquality', 'images', \n",
    "                   'images_lowquality', 'images_lowquality_description',\n",
    "                   'post_url','links','user_id','user_url',\n",
    "                   'is_live','available','w3_fb_url','page_id',\n",
    "                   'was_live','videos','video','video_id',\n",
    "                   'timestamp','video_thumbnail','username','video_ids'\n",
    "                   ,'fetched_time','image_id','image_ids','reactors']\n",
    "\n",
    "# Loại bỏ các cột không cần thiết\n",
    "df_cleaned = df_cleaned.drop(columns=columns_to_drop)\n"
   ]
  },
  {
   "cell_type": "code",
   "execution_count": 10,
   "metadata": {},
   "outputs": [
    {
     "name": "stdout",
     "output_type": "stream",
     "text": [
      "<class 'pandas.core.frame.DataFrame'>\n",
      "Index: 130 entries, 0 to 143\n",
      "Data columns (total 9 columns):\n",
      " #   Column              Non-Null Count  Dtype \n",
      "---  ------              --------------  ----- \n",
      " 0   post_id             130 non-null    int64 \n",
      " 1   post_text           130 non-null    object\n",
      " 2   time                130 non-null    object\n",
      " 3   images_description  130 non-null    object\n",
      " 4   comments            130 non-null    int64 \n",
      " 5   shares              130 non-null    int64 \n",
      " 6   comments_full       130 non-null    object\n",
      " 7   reactions           130 non-null    object\n",
      " 8   reaction_count      130 non-null    int64 \n",
      "dtypes: int64(4), object(5)\n",
      "memory usage: 10.2+ KB\n"
     ]
    }
   ],
   "source": [
    "df_cleaned.info()"
   ]
  },
  {
   "cell_type": "markdown",
   "metadata": {},
   "source": [
    "# Tiền xử lý dữ liệu:"
   ]
  },
  {
   "cell_type": "code",
   "execution_count": 11,
   "metadata": {},
   "outputs": [
    {
     "data": {
      "text/plain": [
       "post_id                                                 332725869390006\n",
       "post_text             Tiếc ghê mọi người ạ, chỉ còn vài giây nữa là ...\n",
       "time                                                2023-11-21 20:58:55\n",
       "images_description    ['Có thể là hình ảnh về 4 người, mọi người đan...\n",
       "comments                                                            495\n",
       "shares                                                               10\n",
       "comments_full         [{'comment_id': '1751787068625758', 'comment_u...\n",
       "reactions             {'thích': 3154, 'yêu thích': 93, 'haha': 30, '...\n",
       "reaction_count                                                     3718\n",
       "Name: 0, dtype: object"
      ]
     },
     "execution_count": 11,
     "metadata": {},
     "output_type": "execute_result"
    }
   ],
   "source": [
    "# example data\n",
    "df_cleaned.loc[0]"
   ]
  },
  {
   "cell_type": "markdown",
   "metadata": {},
   "source": [
    "## Chuyển đổi định dạng thời gian:"
   ]
  },
  {
   "cell_type": "code",
   "execution_count": 12,
   "metadata": {},
   "outputs": [
    {
     "data": {
      "text/plain": [
       "str"
      ]
     },
     "execution_count": 12,
     "metadata": {},
     "output_type": "execute_result"
    }
   ],
   "source": [
    "type(df_cleaned.loc[0]['time'])"
   ]
  },
  {
   "cell_type": "code",
   "execution_count": 13,
   "metadata": {},
   "outputs": [],
   "source": [
    "df_cleaned[\"time\"] = pd.to_datetime(df[\"time\"], format=\"%Y-%m-%d %H:%M:%S\")"
   ]
  },
  {
   "cell_type": "code",
   "execution_count": 14,
   "metadata": {},
   "outputs": [
    {
     "data": {
      "text/plain": [
       "pandas._libs.tslibs.timestamps.Timestamp"
      ]
     },
     "execution_count": 14,
     "metadata": {},
     "output_type": "execute_result"
    }
   ],
   "source": [
    "type(df_cleaned.loc[0]['time'])"
   ]
  },
  {
   "cell_type": "markdown",
   "metadata": {},
   "source": [
    "## Sắp xếp dữ liệu theo thời gian:"
   ]
  },
  {
   "cell_type": "code",
   "execution_count": 15,
   "metadata": {},
   "outputs": [],
   "source": [
    "df_cleaned = df_cleaned.sort_values(by='time')\n",
    "df_cleaned = df_cleaned.reset_index(drop=True)"
   ]
  },
  {
   "cell_type": "markdown",
   "metadata": {},
   "source": [
    "## Tạo các cột riêng cho mỗi loại reaction"
   ]
  },
  {
   "cell_type": "code",
   "execution_count": 16,
   "metadata": {},
   "outputs": [
    {
     "data": {
      "text/plain": [
       "\"{'thích': 1744, 'yêu thích': 310, 'haha': 6, 'wow': 4, 'thương thương': 14, 'buồn': 2, 'phẫn nộ': 4}\""
      ]
     },
     "execution_count": 16,
     "metadata": {},
     "output_type": "execute_result"
    }
   ],
   "source": [
    "df_cleaned.loc[0]['reactions']"
   ]
  },
  {
   "cell_type": "code",
   "execution_count": 17,
   "metadata": {},
   "outputs": [],
   "source": [
    "df_cleaned['reactions'] = df_cleaned['reactions'].apply(ast.literal_eval)\n",
    "reactions_df = pd.json_normalize(df_cleaned['reactions'])\n",
    "reactions_df.fillna(0, inplace=True)\n",
    "reactions_df = reactions_df.astype(int)\n",
    "df_cleaned = pd.concat([df_cleaned, reactions_df], axis=1)"
   ]
  },
  {
   "cell_type": "code",
   "execution_count": 18,
   "metadata": {},
   "outputs": [],
   "source": [
    "df_cleaned = df_cleaned.drop(columns=['reactions'])"
   ]
  },
  {
   "cell_type": "code",
   "execution_count": 19,
   "metadata": {},
   "outputs": [
    {
     "name": "stdout",
     "output_type": "stream",
     "text": [
      "<class 'pandas.core.frame.DataFrame'>\n",
      "RangeIndex: 130 entries, 0 to 129\n",
      "Data columns (total 15 columns):\n",
      " #   Column              Non-Null Count  Dtype         \n",
      "---  ------              --------------  -----         \n",
      " 0   post_id             130 non-null    int64         \n",
      " 1   post_text           130 non-null    object        \n",
      " 2   time                130 non-null    datetime64[ns]\n",
      " 3   images_description  130 non-null    object        \n",
      " 4   comments            130 non-null    int64         \n",
      " 5   shares              130 non-null    int64         \n",
      " 6   comments_full       130 non-null    object        \n",
      " 7   reaction_count      130 non-null    int64         \n",
      " 8   thích               130 non-null    int32         \n",
      " 9   yêu thích           130 non-null    int32         \n",
      " 10  haha                130 non-null    int32         \n",
      " 11  wow                 130 non-null    int32         \n",
      " 12  thương thương       130 non-null    int32         \n",
      " 13  buồn                130 non-null    int32         \n",
      " 14  phẫn nộ             130 non-null    int32         \n",
      "dtypes: datetime64[ns](1), int32(7), int64(4), object(3)\n",
      "memory usage: 11.8+ KB\n"
     ]
    }
   ],
   "source": [
    "df_cleaned.info()"
   ]
  },
  {
   "cell_type": "markdown",
   "metadata": {},
   "source": [
    "## Làm sạch dữ liệu văn bản (bài đăng)"
   ]
  },
  {
   "cell_type": "code",
   "execution_count": 20,
   "metadata": {},
   "outputs": [
    {
     "data": {
      "text/plain": [
       "'Mấy hôm trước, mình ghé qua hiệu sách để mua truyện tranh, vô tình lướt ngang thấy cuốn \"Nỗi buồn chiến tranh\" của tác giả Bảo Ninh được đặt gọn ở trong một góc. Tự nhiên nhớ về hồi sinh viên hơn chục năm trước nhờ đọc cuốn sách này mình đã hạ quyết tâm xuôi dọc mọi miền đất nước, đi qua những di tích lịch sử, gặp những con người chứng nhân cho những năm tháng đã qua của Tổ Quốc...\\n\\nRồi mình cầm cuốn sách về và đọc hết chỉ trong vòng một đêm. Sáng dậy thấy trời tờ mờ sáng và nghĩ về những con người \"còn rất son trẻ, trong trắng và chân thành\" sống qua những \"ngày tháng đau thương nhưng huy hoàng, những ngày bất hạnh nhưng chứa chan tình người, những ngày mà chúng ta biết rõ vì sao chúng ta cần phải chịu đựng tất cả và hy sinh sinh tất cả\"....\\n\\nĐọc cuốn sách, bạn sẽ thấy biết bao những ám ảnh chiến tranh, những nỗi buồn về hậu chiến, những linh hồn vất vưởng tha hương trong nấm mồ còn bỏ lại, một loài hoa hồng dại ám ảnh đến cả linh hồn những chiến sĩ... Những cảnh chiến đấu thịt nát xương tan, những bộ hài cốt mà hốc mắt khô khốc đầu rêu bám, những người chiến bị bị ám ảnh bom đạn rồi phát điên vì có những viên bi lưu lạc ở mãi trong khối óc chẳng thể lấy được...\\n\\nNhững thứ mà cuốn sách này mang lại, không hề có ở bất cứ một tư liệu lịch sử nào, một thước phim nào...\\n\\nTuy nhiên, trong cuộc phỏng vấn với đài PBS trong loạt phim The Vietnam War, Bảo Ninh có nói rằng \"đó là một cuộc nội chiến\" khi nói về cuộc kháng chiến của dân tộc Việt Nam. Cá nhân Bảo Ninh vẫn lên án Mỹ là đã lợi dụng người Việt Nam, xâm phạm độc lập tự do của Việt Nam và khiến cho người Việt Nam đánh người Việt Nam và là một cuộc \"nội chiến\".\\n\\nNhưng đây vẫn là quan điểm không chính xác, không khách quan.\\n\\nNếu có thể, nên trải tác phẩm này với thái độ tiếp cận trung thực, đọc để thấu hiểu và với tâm thế thật vững vàng.\\n\\n-\\\\-\\\\-\\n#tifosi'"
      ]
     },
     "execution_count": 20,
     "metadata": {},
     "output_type": "execute_result"
    }
   ],
   "source": [
    "df_cleaned.loc[0]['post_text']"
   ]
  },
  {
   "cell_type": "code",
   "execution_count": 21,
   "metadata": {},
   "outputs": [],
   "source": [
    "import re\n",
    "from underthesea import text_normalize\n",
    "def preprocess_text(text):\n",
    "    text_process = re.sub(r'#\\w+', '', text)\n",
    "    text_process = re.sub(r'\\n+', '\\n', text_process)\n",
    "    text_process = text_normalize(text_process)\n",
    "    return text_process"
   ]
  },
  {
   "cell_type": "code",
   "execution_count": 22,
   "metadata": {},
   "outputs": [],
   "source": [
    "df_cleaned['post_text'] = df_cleaned['post_text'].apply(lambda x: preprocess_text(x))"
   ]
  },
  {
   "cell_type": "markdown",
   "metadata": {},
   "source": [
    "## Xử lý text cho comment"
   ]
  },
  {
   "cell_type": "code",
   "execution_count": 25,
   "metadata": {},
   "outputs": [],
   "source": [
    "df_cleaned['comments_full'] = df_cleaned['comments_full'].apply(lambda x: eval(x))"
   ]
  },
  {
   "cell_type": "code",
   "execution_count": 26,
   "metadata": {},
   "outputs": [
    {
     "data": {
      "text/plain": [
       "0      [{'comment_id': '3093438647466273', 'comment_u...\n",
       "1      [{'comment_id': '1952312648458387', 'comment_u...\n",
       "2      [{'comment_id': '3426777637564486', 'comment_u...\n",
       "3      [{'comment_id': '6114478595327080', 'comment_u...\n",
       "4      [{'comment_id': '808461400985414', 'comment_ur...\n",
       "                             ...                        \n",
       "125    [{'comment_id': '872893474132718', 'comment_ur...\n",
       "126    [{'comment_id': '6026073020829213', 'comment_u...\n",
       "127    [{'comment_id': '1529808231182115', 'comment_u...\n",
       "128    [{'comment_id': '887920282428291', 'comment_ur...\n",
       "129    [{'comment_id': '1751787068625758', 'comment_u...\n",
       "Name: comments_full, Length: 130, dtype: object"
      ]
     },
     "execution_count": 26,
     "metadata": {},
     "output_type": "execute_result"
    }
   ],
   "source": [
    "total_comments = df_cleaned['comments_full']\n",
    "total_comments"
   ]
  },
  {
   "cell_type": "code",
   "execution_count": 29,
   "metadata": {},
   "outputs": [],
   "source": [
    "def process_comments(comments):\n",
    "    fields_to_remove = ['comment_url', 'commenter_url', 'comment_image']\n",
    "    for comment in comments:\n",
    "        for field in fields_to_remove:\n",
    "            comment.pop(field, None)\n",
    "        comment['comment_text'] = preprocess_text(comment['comment_text'])\n",
    "        if 'replies' in comment:\n",
    "            process_comments(comment['replies'])"
   ]
  },
  {
   "cell_type": "code",
   "execution_count": 30,
   "metadata": {},
   "outputs": [],
   "source": [
    "for i in range(len(total_comments)):\n",
    "    process_comments(total_comments[i])"
   ]
  },
  {
   "cell_type": "markdown",
   "metadata": {},
   "source": [
    "## Tổ chức dữ liệu cho việc phân tích"
   ]
  },
  {
   "cell_type": "markdown",
   "metadata": {},
   "source": [
    "### Phân tích sentiment cho post_content"
   ]
  },
  {
   "cell_type": "code",
   "execution_count": 178,
   "metadata": {},
   "outputs": [],
   "source": [
    "import requests\n",
    "import os\n",
    "\n",
    "api = os.environ.get(\"HUGGINGFACE_API\")\n",
    "API_URL = \"https://api-inference.huggingface.co/models/VietAI/vit5-large-vietnews-summarization\"\n",
    "headers = {\"Authorization\": \"Bearer \" + api}\n",
    "\n",
    "def query_summary(payload):\n",
    "\tresponse = requests.post(API_URL, headers=headers, json=payload)\n",
    "\treturn response.json()"
   ]
  },
  {
   "cell_type": "code",
   "execution_count": null,
   "metadata": {},
   "outputs": [],
   "source": [
    "query_summary({\n",
    "    \"inputs\": \"\"\"Mấy hôm trước, mình ghé qua hiệu sách để mua truyện tranh, vô tình lướt ngang thấy cuốn \"Nỗi buồn chiến tranh\" của tác giả Bảo Ninh được đặt gọn ở trong một góc. Tự nhiên nhớ về hồi sinh viên hơn chục năm trước nhờ đọc cuốn sách này mình đã hạ quyết tâm xuôi dọc mọi miền đất nước, đi qua những di tích lịch sử, gặp những con người chứng nhân cho những năm tháng đã qua của Tổ Quốc...\n",
    "Rồi mình cầm cuốn sách về và đọc hết chỉ trong vòng một đêm. Sáng dậy thấy trời tờ mờ sáng và nghĩ về những con người \"còn rất son trẻ, trong trắng và chân thành\" sống qua những \"ngày tháng đau thương nhưng huy hoàng, những ngày bất hạnh nhưng chứa chan tình người, những ngày mà chúng ta biết rõ vì sao chúng ta cần phải chịu đựng tất cả và hy sinh sinh tất cả\"....\n",
    "Đọc cuốn sách, bạn sẽ thấy biết bao những ám ảnh chiến tranh, những nỗi buồn về hậu chiến, những linh hồn vất vưởng tha hương trong nấm mồ còn bỏ lại, một loài hoa hồng dại ám ảnh đến cả linh hồn những chiến sĩ... Những cảnh chiến đấu thịt nát xương tan, những bộ hài cốt mà hốc mắt khô khốc đầu rêu bám, những người chiến bị bị ám ảnh bom đạn rồi phát điên vì có những viên bi lưu lạc ở mãi trong khối óc chẳng thể lấy được...\n",
    "Những thứ mà cuốn sách này mang lại, không hề có ở bất cứ một tư liệu lịch sử nào, một thước phim nào...\n",
    "Tuy nhiên, trong cuộc phỏng vấn với đài PBS trong loạt phim The Vietnam War, Bảo Ninh có nói rằng \"đó là một cuộc nội chiến\" khi nói về cuộc kháng chiến của dân tộc Việt Nam. Cá nhân Bảo Ninh vẫn lên án Mỹ là đã lợi dụng người Việt Nam, xâm phạm độc lập tự do của Việt Nam và khiến cho người Việt Nam đánh người Việt Nam và là một cuộc \"nội chiến\".\n",
    "Nhưng đây vẫn là quan điểm không chính xác, không khách quan.\n",
    "Nếu có thể, nên trải tác phẩm này với thái độ tiếp cận trung thực, đọc để thấu hiểu và với tâm thế thật vững vàng.\"\"\"\n",
    "})[0]['summary_text']"
   ]
  },
  {
   "cell_type": "code",
   "execution_count": 30,
   "metadata": {},
   "outputs": [],
   "source": [
    "df_cleaned['summary'] = df_cleaned['post_text'].apply(lambda x: query_summary({\"inputs\": x})[0]['summary_text'])"
   ]
  },
  {
   "cell_type": "code",
   "execution_count": 10,
   "metadata": {},
   "outputs": [],
   "source": [
    "import torch\n",
    "from transformers import RobertaForSequenceClassification, AutoTokenizer\n",
    "\n",
    "model = RobertaForSequenceClassification.from_pretrained(\"wonrax/phobert-base-vietnamese-sentiment\")\n",
    "tokenizer = AutoTokenizer.from_pretrained(\"wonrax/phobert-base-vietnamese-sentiment\", use_fast=False)\n",
    "def predict_sentiment(sentence):\n",
    "    input_ids = torch.tensor([tokenizer.encode(sentence)])\n",
    "    with torch.no_grad():\n",
    "        out = model(input_ids)\n",
    "        rel = out.logits.softmax(dim=-1).tolist()[0]\n",
    "        # return label index max value 0:NEG 1:POS 2:NEU\n",
    "        index_max = rel.index(max(rel))\n",
    "        if index_max == 0:\n",
    "            return \"NEG\"\n",
    "        elif index_max == 1:\n",
    "            return \"POS\"\n",
    "        else:\n",
    "            return \"NEU\""
   ]
  },
  {
   "cell_type": "code",
   "execution_count": 71,
   "metadata": {},
   "outputs": [],
   "source": [
    "df_cleaned['sentiment'] = df_cleaned['summary'].apply(lambda x: predict_sentiment(x))"
   ]
  },
  {
   "cell_type": "markdown",
   "metadata": {},
   "source": [
    "### Phân tích sentiment cho comment"
   ]
  },
  {
   "cell_type": "code",
   "execution_count": null,
   "metadata": {},
   "outputs": [],
   "source": [
    "def extract_comment_texts(comments):\n",
    "    all_comment_texts = []\n",
    "    for comment in comments:\n",
    "        all_comment_texts.append(comment['comment_text'])\n",
    "        \n",
    "        if 'replies' in comment:\n",
    "            reply_texts = extract_comment_texts(comment['replies'])\n",
    "            all_comment_texts.extend(reply_texts)\n",
    "    return all_comment_texts"
   ]
  },
  {
   "cell_type": "code",
   "execution_count": 27,
   "metadata": {},
   "outputs": [
    {
     "name": "stdout",
     "output_type": "stream",
     "text": [
      "{'POS': 30, 'NEG': 48, 'NEU': 25}\n",
      "{'POS': 22, 'NEG': 22, 'NEU': 35}\n",
      "{'POS': 30, 'NEG': 15, 'NEU': 13}\n",
      "{'POS': 59, 'NEG': 42, 'NEU': 26}\n",
      "{'POS': 12, 'NEG': 14, 'NEU': 13}\n",
      "{'POS': 15, 'NEG': 5, 'NEU': 9}\n",
      "{'POS': 29, 'NEG': 19, 'NEU': 27}\n",
      "{'POS': 17, 'NEG': 24, 'NEU': 27}\n",
      "{'POS': 13, 'NEG': 21, 'NEU': 31}\n",
      "{'POS': 46, 'NEG': 34, 'NEU': 39}\n",
      "{'POS': 18, 'NEG': 23, 'NEU': 40}\n",
      "{'POS': 29, 'NEG': 29, 'NEU': 12}\n",
      "{'POS': 31, 'NEG': 5, 'NEU': 6}\n",
      "{'POS': 29, 'NEG': 15, 'NEU': 30}\n",
      "{'POS': 29, 'NEG': 12, 'NEU': 22}\n",
      "{'POS': 30, 'NEG': 17, 'NEU': 17}\n",
      "{'POS': 16, 'NEG': 58, 'NEU': 35}\n",
      "{'POS': 25, 'NEG': 8, 'NEU': 23}\n",
      "{'POS': 17, 'NEG': 52, 'NEU': 47}\n",
      "{'POS': 18, 'NEG': 5, 'NEU': 9}\n",
      "{'POS': 12, 'NEG': 33, 'NEU': 23}\n",
      "{'POS': 13, 'NEG': 21, 'NEU': 15}\n",
      "{'POS': 35, 'NEG': 12, 'NEU': 20}\n",
      "{'POS': 4, 'NEG': 12, 'NEU': 5}\n",
      "{'POS': 37, 'NEG': 23, 'NEU': 14}\n",
      "{'POS': 38, 'NEG': 34, 'NEU': 45}\n",
      "{'POS': 19, 'NEG': 37, 'NEU': 15}\n",
      "{'POS': 47, 'NEG': 25, 'NEU': 24}\n",
      "{'POS': 35, 'NEG': 1, 'NEU': 13}\n",
      "{'POS': 14, 'NEG': 6, 'NEU': 13}\n",
      "{'POS': 15, 'NEG': 0, 'NEU': 1}\n",
      "{'POS': 8, 'NEG': 7, 'NEU': 8}\n",
      "{'POS': 8, 'NEG': 9, 'NEU': 11}\n",
      "{'POS': 20, 'NEG': 13, 'NEU': 13}\n",
      "{'POS': 17, 'NEG': 5, 'NEU': 15}\n",
      "{'POS': 19, 'NEG': 5, 'NEU': 7}\n",
      "{'POS': 17, 'NEG': 4, 'NEU': 8}\n",
      "{'POS': 19, 'NEG': 4, 'NEU': 6}\n",
      "{'POS': 15, 'NEG': 8, 'NEU': 3}\n",
      "{'POS': 16, 'NEG': 5, 'NEU': 13}\n",
      "{'POS': 17, 'NEG': 8, 'NEU': 21}\n",
      "{'POS': 1, 'NEG': 23, 'NEU': 13}\n",
      "{'POS': 16, 'NEG': 11, 'NEU': 9}\n",
      "{'POS': 28, 'NEG': 33, 'NEU': 37}\n",
      "{'POS': 26, 'NEG': 75, 'NEU': 38}\n",
      "{'POS': 22, 'NEG': 29, 'NEU': 25}\n",
      "{'POS': 46, 'NEG': 73, 'NEU': 41}\n",
      "{'POS': 17, 'NEG': 3, 'NEU': 8}\n",
      "{'POS': 33, 'NEG': 21, 'NEU': 16}\n",
      "{'POS': 26, 'NEG': 14, 'NEU': 13}\n",
      "{'POS': 37, 'NEG': 77, 'NEU': 83}\n",
      "{'POS': 14, 'NEG': 55, 'NEU': 41}\n",
      "{'POS': 34, 'NEG': 7, 'NEU': 12}\n",
      "{'POS': 19, 'NEG': 15, 'NEU': 17}\n",
      "{'POS': 19, 'NEG': 29, 'NEU': 27}\n",
      "{'POS': 21, 'NEG': 19, 'NEU': 20}\n",
      "{'POS': 25, 'NEG': 37, 'NEU': 44}\n",
      "{'POS': 24, 'NEG': 20, 'NEU': 26}\n",
      "{'POS': 25, 'NEG': 2, 'NEU': 6}\n",
      "{'POS': 23, 'NEG': 7, 'NEU': 11}\n",
      "{'POS': 29, 'NEG': 31, 'NEU': 18}\n",
      "{'POS': 25, 'NEG': 32, 'NEU': 33}\n",
      "{'POS': 50, 'NEG': 160, 'NEU': 94}\n",
      "{'POS': 78, 'NEG': 47, 'NEU': 56}\n",
      "{'POS': 21, 'NEG': 120, 'NEU': 85}\n",
      "{'POS': 27, 'NEG': 32, 'NEU': 48}\n",
      "{'POS': 14, 'NEG': 116, 'NEU': 46}\n",
      "{'POS': 15, 'NEG': 26, 'NEU': 37}\n",
      "{'POS': 26, 'NEG': 54, 'NEU': 36}\n",
      "{'POS': 27, 'NEG': 37, 'NEU': 57}\n",
      "{'POS': 16, 'NEG': 36, 'NEU': 20}\n",
      "{'POS': 37, 'NEG': 42, 'NEU': 50}\n",
      "{'POS': 27, 'NEG': 50, 'NEU': 35}\n",
      "{'POS': 18, 'NEG': 33, 'NEU': 39}\n",
      "{'POS': 39, 'NEG': 105, 'NEU': 75}\n",
      "{'POS': 19, 'NEG': 18, 'NEU': 33}\n",
      "{'POS': 19, 'NEG': 30, 'NEU': 7}\n",
      "{'POS': 19, 'NEG': 42, 'NEU': 38}\n",
      "{'POS': 27, 'NEG': 73, 'NEU': 50}\n",
      "{'POS': 19, 'NEG': 10, 'NEU': 12}\n",
      "{'POS': 18, 'NEG': 38, 'NEU': 38}\n",
      "{'POS': 20, 'NEG': 43, 'NEU': 22}\n",
      "{'POS': 5, 'NEG': 51, 'NEU': 38}\n",
      "{'POS': 34, 'NEG': 19, 'NEU': 24}\n",
      "{'POS': 25, 'NEG': 4, 'NEU': 6}\n",
      "{'POS': 21, 'NEG': 18, 'NEU': 30}\n",
      "{'POS': 17, 'NEG': 47, 'NEU': 51}\n",
      "{'POS': 25, 'NEG': 62, 'NEU': 49}\n",
      "{'POS': 30, 'NEG': 51, 'NEU': 44}\n",
      "{'POS': 36, 'NEG': 14, 'NEU': 26}\n",
      "{'POS': 54, 'NEG': 88, 'NEU': 84}\n",
      "{'POS': 31, 'NEG': 64, 'NEU': 34}\n",
      "{'POS': 51, 'NEG': 28, 'NEU': 27}\n",
      "{'POS': 47, 'NEG': 9, 'NEU': 22}\n",
      "{'POS': 11, 'NEG': 10, 'NEU': 23}\n",
      "{'POS': 32, 'NEG': 41, 'NEU': 30}\n",
      "{'POS': 26, 'NEG': 56, 'NEU': 21}\n",
      "{'POS': 24, 'NEG': 12, 'NEU': 34}\n",
      "{'POS': 25, 'NEG': 21, 'NEU': 26}\n",
      "{'POS': 31, 'NEG': 37, 'NEU': 34}\n",
      "{'POS': 26, 'NEG': 133, 'NEU': 77}\n",
      "{'POS': 19, 'NEG': 27, 'NEU': 13}\n",
      "{'POS': 17, 'NEG': 8, 'NEU': 17}\n",
      "{'POS': 18, 'NEG': 16, 'NEU': 31}\n",
      "{'POS': 43, 'NEG': 18, 'NEU': 26}\n",
      "{'POS': 27, 'NEG': 26, 'NEU': 34}\n",
      "{'POS': 24, 'NEG': 156, 'NEU': 107}\n",
      "{'POS': 34, 'NEG': 19, 'NEU': 16}\n",
      "{'POS': 7, 'NEG': 40, 'NEU': 22}\n",
      "{'POS': 34, 'NEG': 11, 'NEU': 20}\n",
      "{'POS': 22, 'NEG': 24, 'NEU': 36}\n",
      "{'POS': 23, 'NEG': 13, 'NEU': 14}\n",
      "{'POS': 33, 'NEG': 101, 'NEU': 78}\n",
      "{'POS': 30, 'NEG': 72, 'NEU': 49}\n",
      "{'POS': 26, 'NEG': 38, 'NEU': 37}\n",
      "{'POS': 22, 'NEG': 76, 'NEU': 40}\n",
      "{'POS': 14, 'NEG': 14, 'NEU': 11}\n",
      "{'POS': 30, 'NEG': 38, 'NEU': 26}\n",
      "{'POS': 34, 'NEG': 28, 'NEU': 41}\n",
      "{'POS': 32, 'NEG': 25, 'NEU': 42}\n",
      "{'POS': 39, 'NEG': 58, 'NEU': 44}\n",
      "{'POS': 22, 'NEG': 20, 'NEU': 25}\n",
      "{'POS': 53, 'NEG': 64, 'NEU': 66}\n",
      "{'POS': 11, 'NEG': 13, 'NEU': 8}\n",
      "{'POS': 29, 'NEG': 8, 'NEU': 13}\n",
      "{'POS': 25, 'NEG': 67, 'NEU': 35}\n",
      "{'POS': 21, 'NEG': 4, 'NEU': 13}\n",
      "{'POS': 14, 'NEG': 100, 'NEU': 65}\n",
      "{'POS': 16, 'NEG': 46, 'NEU': 26}\n",
      "{'POS': 39, 'NEG': 56, 'NEU': 56}\n",
      "{'POS': 35, 'NEG': 8, 'NEU': 16}\n",
      "{'POS': 28, 'NEG': 13, 'NEU': 25}\n"
     ]
    }
   ],
   "source": [
    "import datetime\n",
    "df_cleaned['comment_sentiment'] = [{} for _ in range(len(total_comments))]\n",
    "for i in range(len(total_comments)):\n",
    "    comment_analysis = eval(total_comments[i])  \n",
    "    all_comment = extract_comment_texts(comment_analysis)  \n",
    "    count_POS = 0\n",
    "    count_NEG = 0\n",
    "    count_NEU = 0\n",
    "    for comment_text in all_comment:\n",
    "        preprocessed_text = preprocess_text(comment_text)\n",
    "        truncated_text = preprocessed_text[:256]\n",
    "        sentiment = predict_sentiment(truncated_text)\n",
    "        if sentiment == 'POS':\n",
    "            count_POS += 1\n",
    "        elif sentiment == 'NEG':\n",
    "            count_NEG += 1\n",
    "        else:\n",
    "            count_NEU += 1\n",
    "    sentiment_counts = {'POS': count_POS, 'NEG': count_NEG, 'NEU': count_NEU}\n",
    "    print({'POS': count_POS, 'NEG': count_NEG, 'NEU': count_NEU})\n",
    "    df_cleaned.at[i, 'comment_sentiment'] = sentiment_counts\n"
   ]
  },
  {
   "cell_type": "code",
   "execution_count": null,
   "metadata": {},
   "outputs": [],
   "source": [
    "df['count_labels_sentiment'] = [max(sentiment.values()) for sentiment in df['comment_sentiment']]"
   ]
  },
  {
   "cell_type": "code",
   "execution_count": null,
   "metadata": {},
   "outputs": [],
   "source": [
    "def get_max_sentiment(sentiment):\n",
    "    max_sentiment = max(sentiment, key=sentiment.get)\n",
    "    return max_sentiment"
   ]
  },
  {
   "cell_type": "code",
   "execution_count": null,
   "metadata": {},
   "outputs": [],
   "source": [
    "df['sentiment_from_comment'] = [get_max_sentiment(sentiment) for sentiment in df['comment_sentiment']]"
   ]
  },
  {
   "cell_type": "code",
   "execution_count": null,
   "metadata": {},
   "outputs": [],
   "source": [
    "df[['comment_POS', 'comment_NEG', 'comment_NEU']] = pd.DataFrame(df['comment_sentiment'].tolist(), index=df.index)"
   ]
  },
  {
   "cell_type": "code",
   "execution_count": null,
   "metadata": {},
   "outputs": [],
   "source": [
    "# Tạo cột 'NEG' cho mỗi dòng\n",
    "df['NEG'] = [sentiment['NEG'] for sentiment in df['comment_sentiment']]\n",
    "\n",
    "# Tạo cột 'POS' cho mỗi dòng\n",
    "df['POS'] = [sentiment['POS'] for sentiment in df['comment_sentiment']]"
   ]
  },
  {
   "cell_type": "markdown",
   "metadata": {},
   "source": [
    "# Profile user data"
   ]
  },
  {
   "cell_type": "code",
   "execution_count": 26,
   "metadata": {},
   "outputs": [],
   "source": [
    "profile_comments = pd.read_csv('Data\\data_profile.csv')"
   ]
  },
  {
   "cell_type": "code",
   "execution_count": 27,
   "metadata": {},
   "outputs": [
    {
     "data": {
      "text/html": [
       "<div>\n",
       "<style scoped>\n",
       "    .dataframe tbody tr th:only-of-type {\n",
       "        vertical-align: middle;\n",
       "    }\n",
       "\n",
       "    .dataframe tbody tr th {\n",
       "        vertical-align: top;\n",
       "    }\n",
       "\n",
       "    .dataframe thead th {\n",
       "        text-align: right;\n",
       "    }\n",
       "</style>\n",
       "<table border=\"1\" class=\"dataframe\">\n",
       "  <thead>\n",
       "    <tr style=\"text-align: right;\">\n",
       "      <th></th>\n",
       "      <th>id</th>\n",
       "      <th>Name</th>\n",
       "      <th>Nơi từng sống</th>\n",
       "      <th>Thông tin liên hệ</th>\n",
       "      <th>Thông tin cơ bản</th>\n",
       "      <th>Thành viên trong gia đình</th>\n",
       "      <th>Sự kiện trong đời</th>\n",
       "      <th>Công việc</th>\n",
       "      <th>Các tên khác</th>\n",
       "      <th>Học vấn</th>\n",
       "      <th>...</th>\n",
       "      <th>Giới thiệu về Thịnh</th>\n",
       "      <th>Giới thiệu về Quảng</th>\n",
       "      <th>Giới thiệu về Kiên</th>\n",
       "      <th>Giới thiệu về Huỳnh</th>\n",
       "      <th>Giới thiệu về Minh Anh</th>\n",
       "      <th>Giới thiệu về Kiều</th>\n",
       "      <th>Giới thiệu về Nguyên</th>\n",
       "      <th>Giới thiệu về NgọcAnh</th>\n",
       "      <th>Giới thiệu về Bùi</th>\n",
       "      <th>Giới thiệu về Ly</th>\n",
       "    </tr>\n",
       "  </thead>\n",
       "  <tbody>\n",
       "    <tr>\n",
       "      <th>0</th>\n",
       "      <td>100033354258162</td>\n",
       "      <td>Phương Nhi</td>\n",
       "      <td>Thành phố Hồ Chí Minh\\nTỉnh/Thành phố hiện tại</td>\n",
       "      <td>/danss.nhi.35110\\nFacebook\\ndanshikshin\\nInsta...</td>\n",
       "      <td>25 tháng 10, 2001\\nNgày sinh\\nNữ\\nGiới tính</td>\n",
       "      <td>Hồ Quốc Phong\\nAnh/em trai</td>\n",
       "      <td>NaN</td>\n",
       "      <td>NaN</td>\n",
       "      <td>NaN</td>\n",
       "      <td>NaN</td>\n",
       "      <td>...</td>\n",
       "      <td>NaN</td>\n",
       "      <td>NaN</td>\n",
       "      <td>NaN</td>\n",
       "      <td>NaN</td>\n",
       "      <td>NaN</td>\n",
       "      <td>NaN</td>\n",
       "      <td>NaN</td>\n",
       "      <td>NaN</td>\n",
       "      <td>NaN</td>\n",
       "      <td>NaN</td>\n",
       "    </tr>\n",
       "    <tr>\n",
       "      <th>1</th>\n",
       "      <td>592223021</td>\n",
       "      <td>Thuy Tran</td>\n",
       "      <td>NaN</td>\n",
       "      <td>NaN</td>\n",
       "      <td>Nữ\\nGiới tính</td>\n",
       "      <td>NaN</td>\n",
       "      <td>NaN</td>\n",
       "      <td>Tap Hoa Ba Thuy Beo\\nOwner and CEO\\n16 tháng 1...</td>\n",
       "      <td>TH Ba Thuy Beo\\nBiệt danh</td>\n",
       "      <td>NaN</td>\n",
       "      <td>...</td>\n",
       "      <td>NaN</td>\n",
       "      <td>NaN</td>\n",
       "      <td>NaN</td>\n",
       "      <td>NaN</td>\n",
       "      <td>NaN</td>\n",
       "      <td>NaN</td>\n",
       "      <td>NaN</td>\n",
       "      <td>NaN</td>\n",
       "      <td>NaN</td>\n",
       "      <td>NaN</td>\n",
       "    </tr>\n",
       "    <tr>\n",
       "      <th>2</th>\n",
       "      <td>100000081973993</td>\n",
       "      <td>Vitel Bắc</td>\n",
       "      <td>NaN</td>\n",
       "      <td>/vitel.bac\\nFacebook</td>\n",
       "      <td>Nam\\nGiới tính</td>\n",
       "      <td>Thu Hoang\\nCon trai\\nBa Hoang\\nCon trai</td>\n",
       "      <td>2009\\nĐã kết hôn với Trọng Nguyễn</td>\n",
       "      <td>đại học nông nghiệp I</td>\n",
       "      <td>NaN</td>\n",
       "      <td>Đại học Tổng Hợp\\nCao đẳng/Đại học\\nTốt nghiệp...</td>\n",
       "      <td>...</td>\n",
       "      <td>NaN</td>\n",
       "      <td>NaN</td>\n",
       "      <td>NaN</td>\n",
       "      <td>NaN</td>\n",
       "      <td>NaN</td>\n",
       "      <td>NaN</td>\n",
       "      <td>NaN</td>\n",
       "      <td>NaN</td>\n",
       "      <td>NaN</td>\n",
       "      <td>NaN</td>\n",
       "    </tr>\n",
       "    <tr>\n",
       "      <th>3</th>\n",
       "      <td>100000259568337</td>\n",
       "      <td>Thành Cát Tư Hãn</td>\n",
       "      <td>Hà Nội\\nTỉnh/Thành phố hiện tại\\nHà Nội\\nQuê quán</td>\n",
       "      <td>/thanh.tuhan\\nFacebook</td>\n",
       "      <td>Nam\\nGiới tính</td>\n",
       "      <td>NaN</td>\n",
       "      <td>NaN</td>\n",
       "      <td>NaN</td>\n",
       "      <td>NaN</td>\n",
       "      <td>NaN</td>\n",
       "      <td>...</td>\n",
       "      <td>NaN</td>\n",
       "      <td>NaN</td>\n",
       "      <td>NaN</td>\n",
       "      <td>NaN</td>\n",
       "      <td>NaN</td>\n",
       "      <td>NaN</td>\n",
       "      <td>NaN</td>\n",
       "      <td>NaN</td>\n",
       "      <td>NaN</td>\n",
       "      <td>NaN</td>\n",
       "    </tr>\n",
       "    <tr>\n",
       "      <th>4</th>\n",
       "      <td>100007422363503</td>\n",
       "      <td>Lê Công Tuấn Giang</td>\n",
       "      <td>Thái Nguyên\\nTỉnh/Thành phố hiện tại</td>\n",
       "      <td>/TuanGiang157\\nFacebook\\nInedakisfru\\nInstagram</td>\n",
       "      <td>Nam\\nGiới tính</td>\n",
       "      <td>NaN</td>\n",
       "      <td>NaN</td>\n",
       "      <td>Công ty Cổ Phần LRV Việt Nam- Ắc Quy Enimac, Ắ...</td>\n",
       "      <td>Rainmood\\nBiệt danh</td>\n",
       "      <td>National Economics University, NEU\\nProject ma...</td>\n",
       "      <td>...</td>\n",
       "      <td>NaN</td>\n",
       "      <td>NaN</td>\n",
       "      <td>NaN</td>\n",
       "      <td>NaN</td>\n",
       "      <td>NaN</td>\n",
       "      <td>NaN</td>\n",
       "      <td>NaN</td>\n",
       "      <td>NaN</td>\n",
       "      <td>NaN</td>\n",
       "      <td>NaN</td>\n",
       "    </tr>\n",
       "  </tbody>\n",
       "</table>\n",
       "<p>5 rows × 35 columns</p>\n",
       "</div>"
      ],
      "text/plain": [
       "                id                Name  \\\n",
       "0  100033354258162          Phương Nhi   \n",
       "1        592223021           Thuy Tran   \n",
       "2  100000081973993           Vitel Bắc   \n",
       "3  100000259568337    Thành Cát Tư Hãn   \n",
       "4  100007422363503  Lê Công Tuấn Giang   \n",
       "\n",
       "                                       Nơi từng sống  \\\n",
       "0     Thành phố Hồ Chí Minh\\nTỉnh/Thành phố hiện tại   \n",
       "1                                                NaN   \n",
       "2                                                NaN   \n",
       "3  Hà Nội\\nTỉnh/Thành phố hiện tại\\nHà Nội\\nQuê quán   \n",
       "4               Thái Nguyên\\nTỉnh/Thành phố hiện tại   \n",
       "\n",
       "                                   Thông tin liên hệ  \\\n",
       "0  /danss.nhi.35110\\nFacebook\\ndanshikshin\\nInsta...   \n",
       "1                                                NaN   \n",
       "2                               /vitel.bac\\nFacebook   \n",
       "3                             /thanh.tuhan\\nFacebook   \n",
       "4    /TuanGiang157\\nFacebook\\nInedakisfru\\nInstagram   \n",
       "\n",
       "                              Thông tin cơ bản  \\\n",
       "0  25 tháng 10, 2001\\nNgày sinh\\nNữ\\nGiới tính   \n",
       "1                                Nữ\\nGiới tính   \n",
       "2                               Nam\\nGiới tính   \n",
       "3                               Nam\\nGiới tính   \n",
       "4                               Nam\\nGiới tính   \n",
       "\n",
       "                 Thành viên trong gia đình                  Sự kiện trong đời  \\\n",
       "0               Hồ Quốc Phong\\nAnh/em trai                                NaN   \n",
       "1                                      NaN                                NaN   \n",
       "2  Thu Hoang\\nCon trai\\nBa Hoang\\nCon trai  2009\\nĐã kết hôn với Trọng Nguyễn   \n",
       "3                                      NaN                                NaN   \n",
       "4                                      NaN                                NaN   \n",
       "\n",
       "                                           Công việc  \\\n",
       "0                                                NaN   \n",
       "1  Tap Hoa Ba Thuy Beo\\nOwner and CEO\\n16 tháng 1...   \n",
       "2                              đại học nông nghiệp I   \n",
       "3                                                NaN   \n",
       "4  Công ty Cổ Phần LRV Việt Nam- Ắc Quy Enimac, Ắ...   \n",
       "\n",
       "                Các tên khác  \\\n",
       "0                        NaN   \n",
       "1  TH Ba Thuy Beo\\nBiệt danh   \n",
       "2                        NaN   \n",
       "3                        NaN   \n",
       "4        Rainmood\\nBiệt danh   \n",
       "\n",
       "                                             Học vấn  ... Giới thiệu về Thịnh  \\\n",
       "0                                                NaN  ...                 NaN   \n",
       "1                                                NaN  ...                 NaN   \n",
       "2  Đại học Tổng Hợp\\nCao đẳng/Đại học\\nTốt nghiệp...  ...                 NaN   \n",
       "3                                                NaN  ...                 NaN   \n",
       "4  National Economics University, NEU\\nProject ma...  ...                 NaN   \n",
       "\n",
       "  Giới thiệu về Quảng Giới thiệu về Kiên Giới thiệu về Huỳnh  \\\n",
       "0                 NaN                NaN                 NaN   \n",
       "1                 NaN                NaN                 NaN   \n",
       "2                 NaN                NaN                 NaN   \n",
       "3                 NaN                NaN                 NaN   \n",
       "4                 NaN                NaN                 NaN   \n",
       "\n",
       "  Giới thiệu về Minh Anh Giới thiệu về Kiều Giới thiệu về Nguyên  \\\n",
       "0                    NaN                NaN                  NaN   \n",
       "1                    NaN                NaN                  NaN   \n",
       "2                    NaN                NaN                  NaN   \n",
       "3                    NaN                NaN                  NaN   \n",
       "4                    NaN                NaN                  NaN   \n",
       "\n",
       "  Giới thiệu về NgọcAnh Giới thiệu về Bùi Giới thiệu về Ly  \n",
       "0                   NaN               NaN              NaN  \n",
       "1                   NaN               NaN              NaN  \n",
       "2                   NaN               NaN              NaN  \n",
       "3                   NaN               NaN              NaN  \n",
       "4                   NaN               NaN              NaN  \n",
       "\n",
       "[5 rows x 35 columns]"
      ]
     },
     "execution_count": 27,
     "metadata": {},
     "output_type": "execute_result"
    }
   ],
   "source": [
    "profile_comments.head()"
   ]
  },
  {
   "cell_type": "code",
   "execution_count": 28,
   "metadata": {},
   "outputs": [
    {
     "name": "stdout",
     "output_type": "stream",
     "text": [
      "<class 'pandas.core.frame.DataFrame'>\n",
      "RangeIndex: 148 entries, 0 to 147\n",
      "Data columns (total 35 columns):\n",
      " #   Column                                       Non-Null Count  Dtype \n",
      "---  ------                                       --------------  ----- \n",
      " 0   id                                           148 non-null    int64 \n",
      " 1   Name                                         148 non-null    object\n",
      " 2   Nơi từng sống                                108 non-null    object\n",
      " 3   Thông tin liên hệ                            115 non-null    object\n",
      " 4   Thông tin cơ bản                             117 non-null    object\n",
      " 5   Thành viên trong gia đình                    25 non-null     object\n",
      " 6   Sự kiện trong đời                            43 non-null     object\n",
      " 7   Công việc                                    62 non-null     object\n",
      " 8   Các tên khác                                 62 non-null     object\n",
      " 9   Học vấn                                      71 non-null     object\n",
      " 10  Mối quan hệ                                  45 non-null     object\n",
      " 11  Giới thiệu về Trung                          2 non-null      object\n",
      " 12  Trích dẫn yêu thích                          42 non-null     object\n",
      " 13  Giới thiệu về Biao                           2 non-null      object\n",
      " 14  Giới thiệu về Huy Hồ                         2 non-null      object\n",
      " 15  Hạng mục                                     16 non-null     object\n",
      " 16  Tính minh bạch của trang cá nhân\n",
      "Xem tất cả  14 non-null     object\n",
      " 17  Giới thiệu về Dao                            2 non-null      object\n",
      " 18  Giới thiệu về Phuong                         2 non-null      object\n",
      " 19  Giới thiệu về Sơn                            2 non-null      object\n",
      " 20  Giới thiệu về Do                             1 non-null      object\n",
      " 21  Giới thiệu về Ánh Tuyết                      1 non-null      object\n",
      " 22  Giới thiệu về Nguyễn                         2 non-null      object\n",
      " 23  Giới thiệu về Dan                            1 non-null      object\n",
      " 24  Tính minh bạch của Trang\n",
      "Xem tất cả          2 non-null      object\n",
      " 25  Giới thiệu về Thịnh                          1 non-null      object\n",
      " 26  Giới thiệu về Quảng                          1 non-null      object\n",
      " 27  Giới thiệu về Kiên                           1 non-null      object\n",
      " 28  Giới thiệu về Huỳnh                          1 non-null      object\n",
      " 29  Giới thiệu về Minh Anh                       1 non-null      object\n",
      " 30  Giới thiệu về Kiều                           1 non-null      object\n",
      " 31  Giới thiệu về Nguyên                         1 non-null      object\n",
      " 32  Giới thiệu về NgọcAnh                        1 non-null      object\n",
      " 33  Giới thiệu về Bùi                            1 non-null      object\n",
      " 34  Giới thiệu về Ly                             1 non-null      object\n",
      "dtypes: int64(1), object(34)\n",
      "memory usage: 40.6+ KB\n"
     ]
    }
   ],
   "source": [
    "profile_comments.info()"
   ]
  },
  {
   "cell_type": "code",
   "execution_count": 74,
   "metadata": {},
   "outputs": [
    {
     "name": "stdout",
     "output_type": "stream",
     "text": [
      "<class 'pandas.core.frame.DataFrame'>\n",
      "RangeIndex: 148 entries, 0 to 147\n",
      "Data columns (total 10 columns):\n",
      " #   Column            Non-Null Count  Dtype  \n",
      "---  ------            --------------  -----  \n",
      " 0   id                148 non-null    int64  \n",
      " 1   Name              148 non-null    object \n",
      " 2   Nơi từng sống     148 non-null    object \n",
      " 3   Thông tin cơ bản  148 non-null    object \n",
      " 4   Công việc         62 non-null     object \n",
      " 5   Học vấn           148 non-null    object \n",
      " 6   sex               105 non-null    object \n",
      " 7   birth_year        17 non-null     float64\n",
      " 8   academic_level    71 non-null     float64\n",
      " 9   location          99 non-null     object \n",
      "dtypes: float64(2), int64(1), object(7)\n",
      "memory usage: 11.7+ KB\n"
     ]
    }
   ],
   "source": [
    "profile_comments.info()"
   ]
  },
  {
   "cell_type": "code",
   "execution_count": 65,
   "metadata": {},
   "outputs": [
    {
     "data": {
      "text/plain": [
       "id                                                    100022337921080\n",
       "Name                                                Thích Nghịch Súng\n",
       "Nơi từng sống       Hà Nội\\nTỉnh/Thành phố hiện tại\\nHà Nội\\nQuê quán\n",
       "Thông tin cơ bản                                       Nam\\nGiới tính\n",
       "Công việc           Hàng Miễn Thuế - Xách Tay Nhật\\n11 tháng 8, 2...\n",
       "Học vấn                                                              \n",
       "sex                                                               Nam\n",
       "birth_year                                                        NaN\n",
       "academic_level                                                    NaN\n",
       "Name: 67, dtype: object"
      ]
     },
     "execution_count": 65,
     "metadata": {},
     "output_type": "execute_result"
    }
   ],
   "source": [
    "profile_comments.iloc[67]"
   ]
  },
  {
   "cell_type": "code",
   "execution_count": 37,
   "metadata": {},
   "outputs": [],
   "source": [
    "# Loại bỏ các cột không có giá trị\n",
    "profile_comments = profile_comments.dropna(axis=1, thresh=10)"
   ]
  },
  {
   "cell_type": "code",
   "execution_count": 38,
   "metadata": {},
   "outputs": [],
   "source": [
    "# Loại bỏ các cột không cần thiết\n",
    "profile_comments = profile_comments.drop(columns=['Thông tin liên hệ','Hạng mục','Mối quan hệ',\n",
    "                                                  'Tính minh bạch của trang cá nhân\\nXem tất cả','Thành viên trong gia đình',\n",
    "                                                  'Sự kiện trong đời','Các tên khác','Trích dẫn yêu thích'])"
   ]
  },
  {
   "cell_type": "code",
   "execution_count": 40,
   "metadata": {},
   "outputs": [],
   "source": [
    "import re\n",
    "def get_sex(text):\n",
    "    if pd.isna(text) or not isinstance(text, str):\n",
    "        return None\n",
    "\n",
    "    gioi_tinh_pattern = re.search(r'\\b(Nam|Nữ)\\b', text)\n",
    "    if gioi_tinh_pattern:\n",
    "        gioi_tinh = gioi_tinh_pattern.group(0)\n",
    "        return gioi_tinh\n",
    "    else:\n",
    "        return None"
   ]
  },
  {
   "cell_type": "code",
   "execution_count": null,
   "metadata": {},
   "outputs": [],
   "source": [
    "profile_comments['Thông tin cơ bản'].fillna(\"\", inplace=True)\n",
    "profile_comments['sex'] = profile_comments['Thông tin cơ bản'].apply(get_sex)"
   ]
  },
  {
   "cell_type": "code",
   "execution_count": 44,
   "metadata": {},
   "outputs": [],
   "source": [
    "def extract_birth_year(chuoi):\n",
    "    match = re.search(r'(\\d{4})\\n(?:Ngày sinh|Năm sinh)', chuoi)\n",
    "    return int(match.group(1)) if match else None\n",
    "profile_comments['birth_year'] = profile_comments['Thông tin cơ bản'].apply(extract_birth_year)"
   ]
  },
  {
   "cell_type": "code",
   "execution_count": 56,
   "metadata": {},
   "outputs": [],
   "source": [
    "def academic_level(chuoi):\n",
    "    level_3 = re.search(r'Đại học', chuoi)\n",
    "    level_2 = re.search(r'THPT', chuoi)\n",
    "    level_1 = re.search(r'THCS', chuoi)\n",
    "\n",
    "    if level_3:\n",
    "        return 3\n",
    "    elif level_2:\n",
    "        return 2\n",
    "    elif level_1:\n",
    "        return 1\n",
    "    else:\n",
    "        return None\n"
   ]
  },
  {
   "cell_type": "code",
   "execution_count": 62,
   "metadata": {},
   "outputs": [],
   "source": [
    "profile_comments['Học vấn'].fillna(\"\", inplace=True)\n",
    "profile_comments['academic_level'] = profile_comments['Học vấn'].apply(academic_level)"
   ]
  },
  {
   "cell_type": "code",
   "execution_count": 70,
   "metadata": {},
   "outputs": [],
   "source": [
    "def extract_location(chuoi):\n",
    "    match = re.search(r'(.+?)\\nTỉnh/Thành phố hiện tại', chuoi)\n",
    "    return match.group(1) if match else None"
   ]
  },
  {
   "cell_type": "code",
   "execution_count": 72,
   "metadata": {},
   "outputs": [],
   "source": [
    "profile_comments['Nơi từng sống'].fillna(\"\", inplace=True)\n",
    "profile_comments['location'] = profile_comments['Nơi từng sống'].apply(extract_location)"
   ]
  },
  {
   "cell_type": "code",
   "execution_count": null,
   "metadata": {},
   "outputs": [],
   "source": [
    "profile_comments = profile_comments.drop(columns=['Nơi từng sống'])"
   ]
  },
  {
   "cell_type": "markdown",
   "metadata": {},
   "source": [
    "# Lưu dữ liệu sau khi đã làm sạch"
   ]
  },
  {
   "cell_type": "code",
   "execution_count": 29,
   "metadata": {},
   "outputs": [
    {
     "name": "stdout",
     "output_type": "stream",
     "text": [
      "<class 'pandas.core.frame.DataFrame'>\n",
      "RangeIndex: 132 entries, 0 to 131\n",
      "Data columns (total 28 columns):\n",
      " #   Column              Non-Null Count  Dtype  \n",
      "---  ------              --------------  -----  \n",
      " 0   post_id             132 non-null    int64  \n",
      " 1   post_text           132 non-null    object \n",
      " 2   time                132 non-null    object \n",
      " 3   timestamp           132 non-null    float64\n",
      " 4   images_description  132 non-null    object \n",
      " 5   video_thumbnail     1 non-null      object \n",
      " 6   comments            132 non-null    int64  \n",
      " 7   shares              132 non-null    int64  \n",
      " 8   username            132 non-null    object \n",
      " 9   comments_full       132 non-null    object \n",
      " 10  reactors            132 non-null    object \n",
      " 11  reactions           132 non-null    object \n",
      " 12  reaction_count      132 non-null    int64  \n",
      " 13  image_id            128 non-null    float64\n",
      " 14  image_ids           132 non-null    object \n",
      " 15  fetched_time        132 non-null    object \n",
      " 16  video_ids           2 non-null      object \n",
      " 17  thích               132 non-null    int64  \n",
      " 18  yêu thích           132 non-null    int64  \n",
      " 19  haha                132 non-null    int64  \n",
      " 20  wow                 132 non-null    float64\n",
      " 21  thương thương       132 non-null    int64  \n",
      " 22  buồn                132 non-null    float64\n",
      " 23  phẫn nộ             132 non-null    float64\n",
      " 24  summary             132 non-null    object \n",
      " 25  sentiment           132 non-null    object \n",
      " 26  max_label           132 non-null    object \n",
      " 27  comment_sentiment   132 non-null    object \n",
      "dtypes: float64(5), int64(8), object(15)\n",
      "memory usage: 29.0+ KB\n"
     ]
    }
   ],
   "source": [
    "df_cleaned.info()"
   ]
  },
  {
   "cell_type": "code",
   "execution_count": 20,
   "metadata": {},
   "outputs": [],
   "source": [
    "FOLDER_PATH = \"Data/\"\n",
    "path = FOLDER_PATH + \"data_cleaned\" + \".csv\"\n",
    "df_cleaned.to_csv(path, index=False)"
   ]
  },
  {
   "cell_type": "code",
   "execution_count": 76,
   "metadata": {},
   "outputs": [
    {
     "name": "stdout",
     "output_type": "stream",
     "text": [
      "<class 'pandas.core.frame.DataFrame'>\n",
      "RangeIndex: 148 entries, 0 to 147\n",
      "Data columns (total 9 columns):\n",
      " #   Column            Non-Null Count  Dtype  \n",
      "---  ------            --------------  -----  \n",
      " 0   id                148 non-null    int64  \n",
      " 1   Name              148 non-null    object \n",
      " 2   Thông tin cơ bản  148 non-null    object \n",
      " 3   Công việc         62 non-null     object \n",
      " 4   Học vấn           148 non-null    object \n",
      " 5   sex               105 non-null    object \n",
      " 6   birth_year        17 non-null     float64\n",
      " 7   academic_level    71 non-null     float64\n",
      " 8   location          99 non-null     object \n",
      "dtypes: float64(2), int64(1), object(6)\n",
      "memory usage: 10.5+ KB\n"
     ]
    }
   ],
   "source": [
    "profile_comments.info()"
   ]
  },
  {
   "cell_type": "code",
   "execution_count": 78,
   "metadata": {},
   "outputs": [],
   "source": [
    "FOLDER_PATH = \"Data/\"\n",
    "path = FOLDER_PATH + \"data_profile_cleaned\" + \".csv\"\n",
    "profile_comments.to_csv(path, index=False)"
   ]
  }
 ],
 "metadata": {
  "kernelspec": {
   "display_name": "base",
   "language": "python",
   "name": "python3"
  },
  "language_info": {
   "codemirror_mode": {
    "name": "ipython",
    "version": 3
   },
   "file_extension": ".py",
   "mimetype": "text/x-python",
   "name": "python",
   "nbconvert_exporter": "python",
   "pygments_lexer": "ipython3",
   "version": "3.10.12"
  }
 },
 "nbformat": 4,
 "nbformat_minor": 2
}
